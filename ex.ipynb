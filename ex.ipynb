{
 "cells": [
  {
   "cell_type": "code",
   "execution_count": null,
   "id": "350874eb",
   "metadata": {},
   "outputs": [],
   "source": [
    "import random\n",
    "Guess =0\n",
    "No_Of_Guesses = 0\n",
    "No_To_Guess =  random.randint(0, 10)\n",
    "while Guess != No_To_Guess and No_Of_Guesses <10 :\n",
    "    Guess = int(input(\"Player : \"))\n",
    "    No_Of_Guesses = No_Of_Guesses + 1\n",
    "    if Guess == No_To_Guess:\n",
    "         print(\"That's Right. Number of tries\",No_Of_Guesses)\n",
    "    else :\n",
    "        if (Guess > No_To_Guess):\n",
    "            print(\"Try a Smaller Number\")\n",
    "        else :\n",
    "            print(\"Try a Greater Number\")"
   ]
  }
 ],
 "metadata": {
  "kernelspec": {
   "display_name": "Python 3 (ipykernel)",
   "language": "python",
   "name": "python3"
  },
  "language_info": {
   "codemirror_mode": {
    "name": "ipython",
    "version": 3
   },
   "file_extension": ".py",
   "mimetype": "text/x-python",
   "name": "python",
   "nbconvert_exporter": "python",
   "pygments_lexer": "ipython3",
   "version": "3.9.13"
  }
 },
 "nbformat": 4,
 "nbformat_minor": 5
}
