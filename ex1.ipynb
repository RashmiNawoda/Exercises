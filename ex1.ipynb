{
 "cells": [
  {
   "cell_type": "code",
   "execution_count": null,
   "id": "8b4c124b",
   "metadata": {},
   "outputs": [],
   "source": [
    "import random\n",
    "Guess_1 =0\n",
    "No_Of_Guesses_1 = 0\n",
    "No_To_Guess_1 =  random.randint(0, 10)\n",
    "while Guess_1 != No_To_Guess_1 and No_Of_Guesses_1 <10 :\n",
    "    Guess_1 = int(input(\"Player1 : \"))\n",
    "    No_Of_Guesses_1 = No_Of_Guesses_1 + 1\n",
    "    if Guess_1 == No_To_Guess_1:\n",
    "         print(\"That's Right. Number of tries\",No_Of_Guesses_1,\"\\n\",)\n",
    "    else :\n",
    "        if (Guess_1 > No_To_Guess_1):\n",
    "            print(\"Try a Smaller Number\")\n",
    "        else :\n",
    "            print(\"Try a Greater Number\")\n",
    " \n",
    "Guess_2 = 0\n",
    "No_Of_Guesses_2 = 0\n",
    "No_To_Guess_2 =  random.randint(0, 10)\n",
    "while Guess_2 != No_To_Guess_2 and No_Of_Guesses_2 <10 :\n",
    "    Guess_2 = int(input(\"Player2 : \"))\n",
    "    No_Of_Guesses_2 = No_Of_Guesses_2 + 1\n",
    "    if Guess_2 == No_To_Guess_2:\n",
    "         print(\"That's Right. Number of tries\",No_Of_Guesses_2,\"\\n\",)\n",
    "    else :\n",
    "        if (Guess_2 > No_To_Guess_2):\n",
    "            print(\"Try a Smaller Number\")\n",
    "        else :\n",
    "            print(\"Try a Greater Number\")\n",
    "            \n",
    "if (No_Of_Guesses_1 < No_Of_Guesses_2):\n",
    "    print(\"Winner is player1\")\n",
    "else:\n",
    "    print(\"Winner is player2\")   "
   ]
  }
 ],
 "metadata": {
  "kernelspec": {
   "display_name": "Python 3 (ipykernel)",
   "language": "python",
   "name": "python3"
  },
  "language_info": {
   "codemirror_mode": {
    "name": "ipython",
    "version": 3
   },
   "file_extension": ".py",
   "mimetype": "text/x-python",
   "name": "python",
   "nbconvert_exporter": "python",
   "pygments_lexer": "ipython3",
   "version": "3.9.13"
  }
 },
 "nbformat": 4,
 "nbformat_minor": 5
}
